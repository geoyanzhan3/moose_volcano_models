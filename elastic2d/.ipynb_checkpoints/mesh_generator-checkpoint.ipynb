{
 "cells": [
  {
   "cell_type": "code",
   "execution_count": 1,
   "metadata": {},
   "outputs": [],
   "source": [
    "zc = -3e3\n",
    "r1 = 0.5e3\n",
    "r2 = 1e3\n",
    "\n",
    "xmax = 10e3\n",
    "zmax = 10e3"
   ]
  },
  {
   "cell_type": "code",
   "execution_count": 4,
   "metadata": {},
   "outputs": [],
   "source": [
    "# The Python API is entirely defined in the `gmsh.py' module (which contains the\n",
    "# full documentation of all the functions in the API):\n",
    "import gmsh\n",
    "\n",
    "# Before using any functions in the Python API, Gmsh must be initialized:\n",
    "gmsh.initialize()\n",
    "\n",
    "# By default Gmsh will not print out any messages: in order to output messages\n",
    "# on the terminal, just set the \"General.Terminal\" option to 1:\n",
    "gmsh.option.setNumber(\"General.Terminal\", 1)\n",
    "\n",
    "# Next we add a new model named \"t1\" (if gmsh.model.add() is not called a new\n",
    "# unnamed model will be created on the fly, if necessary):\n",
    "gmsh.model.add(\"Ellip_A2d\")\n",
    "\n",
    "# The Python API provides direct access to each supported geometry kernel. The\n",
    "# built-in kernel is used in this first tutorial: the corresponding API\n",
    "# functions have the `gmsh.model.geo' prefix.\n",
    "\n",
    "# The first type of `elementary entity' in Gmsh is a `Point'. To create a point\n",
    "# with the built-in geometry kernel, the Python API function is\n",
    "# gmsh.model.geo.addPoint():\n",
    "# - the first 3 arguments are the point coordinates (x, y, z)\n",
    "# - the next (optional) argument is the target mesh size (the \"characteristic\n",
    "#   length\") close to the point\n",
    "# - the last (optional) argument is the point tag (a stricly positive integer\n",
    "#   that uniquely identifies the point)\n",
    "lc = 100\n",
    "gmsh.model.geo.addPoint(0, 0, 0, lc*2, 1)\n",
    "gmsh.model.geo.addPoint(xmax, 0, 0, lc*5, 2)\n",
    "gmsh.model.geo.addPoint(xmax, -zmax, 0, lc*5, 3)\n",
    "gmsh.model.geo.addPoint(0, -zmax, 0, lc*5, 4)\n",
    "\n",
    "# for ellipse\n",
    "# start\n",
    "gmsh.model.geo.addPoint(0, zc+r1, 0, lc, 5)\n",
    "# center\n",
    "gmsh.model.geo.addPoint(0, zc, 0, lc, 6)\n",
    "# major axis\n",
    "gmsh.model.geo.addPoint(r2, zc, 0, lc/2, 7)\n",
    "# end\n",
    "gmsh.model.geo.addPoint(0, zc-r1, 0, lc, 8)\n",
    "\n",
    "# add line\n",
    "gmsh.model.geo.addLine(1, 5, 1)\n",
    "gmsh.model.geo.addEllipseArc(5,6,7,7,tag=2)\n",
    "gmsh.model.geo.addEllipseArc(7,6,7,8,tag=3)\n",
    "gmsh.model.geo.addLine(8, 4, 4)\n",
    "gmsh.model.geo.addLine(4, 3, 5)\n",
    "gmsh.model.geo.addLine(3, 2, 6)\n",
    "gmsh.model.geo.addLine(2, 1, 7)\n",
    "\n",
    "# boundarys\n",
    "gmsh.model.addPhysicalGroup(1, [5], 101)\n",
    "gmsh.model.setPhysicalName(1, 101, \"bottom\")\n",
    "gmsh.model.addPhysicalGroup(1, [6], 102)\n",
    "gmsh.model.setPhysicalName(1, 102, \"right\")\n",
    "gmsh.model.addPhysicalGroup(1, [2,3], 103)\n",
    "gmsh.model.setPhysicalName(1, 103, \"chamber\")\n",
    "gmsh.model.addPhysicalGroup(1, [7], 104)\n",
    "gmsh.model.setPhysicalName(1, 104, \"top\")\n",
    "\n",
    "# create surface\n",
    "gmsh.model.geo.addCurveLoop([1,2,3,4,5,6,7], 99)\n",
    "face = gmsh.model.geo.addPlaneSurface([99])\n",
    "ps = gmsh.model.addPhysicalGroup(2, [face])\n",
    "gmsh.model.setPhysicalName(2, ps, \"domain\")\n",
    "\n",
    "gmsh.model.geo.synchronize()\n",
    "\n",
    "# We can then generate a 2D mesh...\n",
    "gmsh.model.mesh.generate(2)\n",
    "\n",
    "# ... and save it to disk\n",
    "gmsh.write(\"Ellip_A2d.msh\")\n",
    "\n",
    "gmsh.finalize()"
   ]
  },
  {
   "cell_type": "code",
   "execution_count": 5,
   "metadata": {},
   "outputs": [],
   "source": [
    "!gmsh Ellip_A2d.msh"
   ]
  },
  {
   "cell_type": "code",
   "execution_count": 42,
   "metadata": {},
   "outputs": [
    {
     "data": {
      "text/plain": [
       "<function gmsh.model.geo.synchronize()>"
      ]
     },
     "execution_count": 42,
     "metadata": {},
     "output_type": "execute_result"
    }
   ],
   "source": []
  },
  {
   "cell_type": "code",
   "execution_count": null,
   "metadata": {},
   "outputs": [],
   "source": []
  }
 ],
 "metadata": {
  "kernelspec": {
   "display_name": "Python 3",
   "language": "python",
   "name": "python3"
  },
  "language_info": {
   "codemirror_mode": {
    "name": "ipython",
    "version": 3
   },
   "file_extension": ".py",
   "mimetype": "text/x-python",
   "name": "python",
   "nbconvert_exporter": "python",
   "pygments_lexer": "ipython3",
   "version": "3.7.6"
  }
 },
 "nbformat": 4,
 "nbformat_minor": 4
}
